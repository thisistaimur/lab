{
  "metadata": {
    "language_info": {
      "codemirror_mode": {
        "name": "python",
        "version": 3
      },
      "file_extension": ".py",
      "mimetype": "text/x-python",
      "name": "python",
      "nbconvert_exporter": "python",
      "pygments_lexer": "ipython3",
      "version": "3.8"
    },
    "kernelspec": {
      "name": "python",
      "display_name": "Pyolite",
      "language": "python"
    }
  },
  "nbformat_minor": 4,
  "nbformat": 4,
  "cells": [
    {
      "cell_type": "markdown",
      "source": "# Mera Halka - Idea Sketch",
      "metadata": {}
    },
    {
      "cell_type": "markdown",
      "source": "### Next meet: 07.08.2022",
      "metadata": {}
    },
    {
      "cell_type": "markdown",
      "source": "**Problem Statement?**\n- People dont have the local politics data to cast a vote\n- Pakistan's democracy is fragile due to the lack of education and a culture of transparency in electoral processes which feeds into lack of public awareness.\n- Pakistan has a lack of open access electoral data for its common citizenry. \n- There is open data available on certain repositories, websites, and data portals, but the decetralized and unstructured nature of the data makes it difficult to access.\n- Furethermore, the data that is available is in English mostly. Roughly 70% of Pakistan does not speak/read English, creating a languange barier between the democracy and its people.  \n\n- historical performance\n- i wanna know mera halka\n- Meray halkay mein voters kitnay hain?\n- Voters ki demographics \n- We do not have accurate info on political polls, its also not dentrally accessible.\n- Its difficult to access electoral data of paksitan as an outsider.",
      "metadata": {}
    },
    {
      "cell_type": "markdown",
      "source": "**Target Persona**\n- <40 years old, young voter base that continues to gorw. Also a growing female voter base. \n- For people with slight knowledge of electoral politics.",
      "metadata": {}
    },
    {
      "cell_type": "markdown",
      "source": "## To Do:",
      "metadata": {}
    },
    {
      "cell_type": "markdown",
      "source": "1. Come up with website and prototypes.\n2. Collect datasets.\n3. Contact similar initatives (e.g. pakistanelectionwatch.com).\n4. Explore some data products in notebooks.\n5. See if others might be interested.\n6. Get a logo. \n7. Market the website.\n8. Buy domain merahalka.com ",
      "metadata": {}
    },
    {
      "cell_type": "markdown",
      "source": "## Resources:",
      "metadata": {}
    },
    {
      "cell_type": "markdown",
      "source": "- https://opendata.com.pk/dataset/election-database-1970-2018\n- https://github.com/colincookman/pakistan_election_results_2018\n- https://github.com/mzohaib10/pak-elections --> Contact the creator\n- https://www.pakistanelectionwatch.com\n- https://www.pkelection.com",
      "metadata": {}
    },
    {
      "cell_type": "code",
      "source": "",
      "metadata": {},
      "execution_count": null,
      "outputs": []
    }
  ]
}