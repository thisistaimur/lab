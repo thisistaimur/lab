{
 "cells": [
  {
   "cell_type": "markdown",
   "metadata": {},
   "source": [
    "# Lab Exercise 1\n",
    "\n",
    "**How do earth spheres interact? Exercise 1:**\n",
    "\n",
    "1.  What is the (fraction of) mass of each sphere, in which the main interactions in contemporaneous Earth system dynamics takes place?\n",
    "\n",
    "2. What is the (fraction of) volume of each sphere, in which the main interactions in contemporaneous Earth system dynamics takes place?"
   ]
  },
  {
   "cell_type": "markdown",
   "metadata": {},
   "source": [
    "### Import module dependencies"
   ]
  },
  {
   "cell_type": "code",
   "execution_count": null,
   "metadata": {},
   "outputs": [],
   "source": [
    "import numpy as np\n",
    "import matplotlib.pyplot as plt\n",
    "import pandas as pd"
   ]
  },
  {
   "cell_type": "markdown",
   "metadata": {},
   "source": [
    "### Base assumptions\n",
    "\n",
    "In order to address these question, certain asusmptions and clarifications have to be made.\n",
    "\n",
    "- What is meant by \"main interactions\"?\n",
    "    - I will break down interactions into two types: 1) Inter-sphere interactions and 2) Intra-sphere interactions. \n",
    "\n",
    "- The questions assume that there are 4 basic earth system spheres. However, this is only partially true. Let us define earth system spheres further and also address major sub-spheres. "
   ]
  },
  {
   "cell_type": "markdown",
   "metadata": {},
   "source": [
    "### Redefining the spheres\n",
    "Geosphere:\n",
    "1. Mesophere\n",
    "2. Asthenosphere\n",
    "4. Lithosphere\n",
    "5. Pedosphere\n",
    "\n",
    "6. Biosphere\n",
    "\n",
    "7. Hydrosphere\n",
    "8.  Cryosphere\n",
    "9. Atmosphere\n",
    "10. Troposphere\n",
    "11. Stratosphere\n",
    "12. Mesosphere\n",
    "Thermosphere\n",
    "Ionosphere\n",
    "Exosphere\n",
    "Magnetosphere\n",
    "Plasmasphere\n"
   ]
  },
  {
   "cell_type": "markdown",
   "metadata": {},
   "source": [
    "### Answer 1"
   ]
  },
  {
   "cell_type": "markdown",
   "metadata": {},
   "source": [
    "###  "
   ]
  }
 ],
 "metadata": {
  "language_info": {
   "name": "python"
  }
 },
 "nbformat": 4,
 "nbformat_minor": 2
}
