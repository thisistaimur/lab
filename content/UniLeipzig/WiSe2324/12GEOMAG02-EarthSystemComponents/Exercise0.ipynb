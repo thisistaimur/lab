{
 "cells": [
  {
   "cell_type": "markdown",
   "metadata": {},
   "source": [
    "# Lab Exercise 1\n",
    "\n",
    "**How do earth spheres interact? Exercise 1:**\n",
    "\n",
    "1.  What is the (fraction of) mass of each sphere, in which the main interactions in contemporaneous Earth system dynamics takes place?\n",
    "\n",
    "2. What is the (fraction of) volume of each sphere, in which the main interactions in contemporaneous Earth system dynamics takes place?"
   ]
  },
  {
   "cell_type": "markdown",
   "metadata": {},
   "source": [
    "### Import module dependencies"
   ]
  },
  {
   "cell_type": "markdown",
   "metadata": {},
   "source": []
  },
  {
   "cell_type": "code",
   "execution_count": 2,
   "metadata": {},
   "outputs": [],
   "source": [
    "import numpy as np\n",
    "import matplotlib.pyplot as plt\n",
    "import pandas as pd\n",
    "from pint import UnitRegistry\n",
    "ureg = UnitRegistry()"
   ]
  },
  {
   "cell_type": "markdown",
   "metadata": {},
   "source": [
    "### Base assumptions\n",
    "\n",
    "In order to address these questions, certain asusmptions and clarifications have to be made.\n",
    "\n",
    "- What is meant by \"main interactions\"?\n",
    "    - I will break down interactions into two types: 1) Inter-sphere interactions and 2) Intra-sphere interactions. \n",
    "\n",
    "- The questions assume that there are 4 basic earth system spheres. However, this is only partially true. Let us define earth system spheres further and also address major sub-spheres. \n",
    "\n",
    "1. Geosphere: The geosphere is the solid Earth, including the crust, mantle, and core. It makes up the largest volume of the Earth. The Earth's radius is approximately 6,371 kilometers, and the entire Earth can be considered the geosphere. So, it represents nearly the entire volume of the Earth.\n",
    "2. Hydrosphere: The hydrosphere includes all the water on Earth, including oceans, rivers, lakes, and groundwater. Water covers about 71% of the Earth's surface. If we're looking at volume, water has a much lower density than rock, so it occupies a smaller fraction of the Earth's total volume compared to its surface area.\n",
    "3. Atmosphere: The Earth's atmosphere is relatively thin compared to the other spheres. It extends to an altitude of about 100 kilometers, but most of its mass is concentrated within the first 10-20 kilometers (troposphere). While the atmosphere extends quite high, it contains a relatively small fraction of the Earth's total mass and volume.\n",
    "4. Biosphere: The biosphere is the zone of life on Earth and includes all living organisms. It exists within the other spheres, so it doesn't have a distinct volume of its own. Life is found from the ocean depths to the highest mountains, and it is intimately connected with the hydrosphere, geosphere, and atmosphere."
   ]
  },
  {
   "cell_type": "markdown",
   "metadata": {},
   "source": [
    "### Redefining Earth's \"spheres of influence\"\n",
    "1. Geosphere:\n",
    "    - Mesophere\n",
    "    - Asthenosphere\n",
    "    - Lithosphere\n",
    "    - Pedosphere\n",
    "6. Biosphere\n",
    "7. Hydrosphere\n",
    "8. Cryosphere\n",
    "9. Atmosphere\n",
    "    - Troposphere\n",
    "    - Stratosphere\n",
    "    - Mesosphere\n",
    "    - Thermosphere\n",
    "    - Exosphere\n",
    "10. Magnetosphere\n",
    "    - Ionosphere\n",
    "    - Plasmasphere\n"
   ]
  },
  {
   "cell_type": "markdown",
   "metadata": {},
   "source": [
    " Mass is the physical matter of something in a total number of atoms. And volume is the amount of space an object encloses.\n",
    "\n",
    "### Answer 1\n",
    "\n",
    "Mass (g) = Density (g/m^3) x Volume (m^3)\n",
    "\n",
    "The geosphere contains the most mass of Earth's spheres and contains the \"densist\" materials.\n",
    "The geosphere, encompassing the solid portion of Earth's structure, holds the most mass among the planet's spheres. Composed of the crust, mantle, and core, the geosphere constitutes the rocky foundation of our planet. The lithosphere, comprising the rigid outer layer, forms the continents and oceanic crust. Beneath it lies the asthenosphere, a semi-fluid layer, and further down, the Earth's dense core.\n",
    "The geosphere's vast mass, accounting for the majority of Earth's volume, influences the planet's gravitational pull and plays a crucial role in shaping its geological features. From towering mountains to expansive valleys, the geosphere represents the substantial bulk of our planet's physical composition."
   ]
  },
  {
   "cell_type": "code",
   "execution_count": 15,
   "metadata": {},
   "outputs": [
    {
     "name": "stdout",
     "output_type": "stream",
     "text": [
      "Fraction of mass of water on Earth: 0.02% dimensionless\n",
      "Fraction of mass of air on Earth: 0.00% dimensionless\n",
      "Fraction of mass of geosphere on Earth: 99.98% dimensionless\n"
     ]
    }
   ],
   "source": [
    "# Define necessary constants with units\n",
    "water_density = 1 * ureg.gram / ureg.centimeter ** 3\n",
    "air_density = 0.0012 * ureg.gram / ureg.centimeter ** 3\n",
    "geosphere_density = 5.513 * ureg.gram / ureg.centimeter ** 3\n",
    "\n",
    "water_volume = 1.386e9 * ureg.kilometer ** 3\n",
    "air_volume = 4.2e9 * ureg.kilometer ** 3\n",
    "geosphere_volume = 1.08321e12 * ureg.kilometer ** 3\n",
    "\n",
    "# Calculate masses with units\n",
    "water_mass = water_density * water_volume\n",
    "air_mass = air_density * air_volume\n",
    "geosphere_mass = geosphere_density * geosphere_volume\n",
    "\n",
    "# Calculate total mass\n",
    "total_mass = water_mass + air_mass + geosphere_mass\n",
    "\n",
    "# Calculate fractions\n",
    "fraction_water = water_mass / total_mass\n",
    "fraction_air = air_mass / total_mass\n",
    "fraction_geosphere = geosphere_mass / total_mass\n",
    "\n",
    "# Print results\n",
    "print(f\"Fraction of mass of water on Earth: {fraction_water:.2%}\")\n",
    "print(f\"Fraction of mass of air on Earth: {fraction_air:.2%}\")\n",
    "print(f\"Fraction of mass of geosphere on Earth: {fraction_geosphere:.2%}\")\n"
   ]
  },
  {
   "cell_type": "markdown",
   "metadata": {},
   "source": [
    "### Answer 2\n",
    "\n",
    "Earth is not a perfect sphere. But we can approximate it by using the volume of a sphere which is 4/3πr3. Based on a radius of 6,371 km, Earth’s volume would be 1.08 trillion cubic kilometers.\n",
    "\n",
    "Volume (m^3) = Mass  (g)/ Density (g/m^3)"
   ]
  },
  {
   "cell_type": "code",
   "execution_count": 5,
   "metadata": {},
   "outputs": [
    {
     "data": {
      "text/html": [
       "1.0832069168457536×10<sup>21</sup> meter<sup>3</sup>"
      ],
      "text/latex": [
       "$1.0832069168457536\\times 10^{21}\\ \\mathrm{meter}^{3}$"
      ],
      "text/plain": [
       "1.0832069168457536e+21 <Unit('meter ** 3')>"
      ]
     },
     "execution_count": 5,
     "metadata": {},
     "output_type": "execute_result"
    }
   ],
   "source": [
    "radius = 6371000 * ureg.meter\n",
    "volume = (4/3)*np.pi*radius**3\n",
    "volume"
   ]
  },
  {
   "cell_type": "markdown",
   "metadata": {},
   "source": [
    "Given the mass of Earth is 5.972 × 10^24 kg, we can divide by its volume as noted above. After converting kilograms and cubic kilometers to grams and cubic centimeters, Earth’s density is about 5.519 g/cm"
   ]
  },
  {
   "cell_type": "code",
   "execution_count": 6,
   "metadata": {},
   "outputs": [
    {
     "data": {
      "text/html": [
       "5513.258738589093 kilogram/meter<sup>3</sup>"
      ],
      "text/latex": [
       "$5513.258738589093\\ \\frac{\\mathrm{kilogram}}{\\mathrm{meter}^{3}}$"
      ],
      "text/plain": [
       "5513.258738589093 <Unit('kilogram / meter ** 3')>"
      ]
     },
     "execution_count": 6,
     "metadata": {},
     "output_type": "execute_result"
    }
   ],
   "source": [
    "mass = 5.972e24 * ureg.kilogram\n",
    "density = mass/volume\n",
    "density"
   ]
  },
  {
   "cell_type": "markdown",
   "metadata": {},
   "source": [
    "And this roughly checks in with the general consensus of Earth’s density at about 5.513 g/cm3. If you account for Earth’s shape, you can get a better estimate of Earth’s density."
   ]
  },
  {
   "cell_type": "code",
   "execution_count": 7,
   "metadata": {},
   "outputs": [
    {
     "name": "stdout",
     "output_type": "stream",
     "text": [
      "Volume of all of Earth's water: 1.40e+15 meter ** 3\n",
      "Volume of geosphere: 1.08e+21 meter ** 3\n",
      "Volume of all of Earth's air: 4.29e+15 meter ** 3\n"
     ]
    }
   ],
   "source": [
    "\n",
    "# Define necessary constants with units\n",
    "water_mass = 1.4e21 * ureg.gram\n",
    "water_density = 1 * ureg.gram / ureg.centimeter ** 3\n",
    "air_mass = 5.15e18 * ureg.gram\n",
    "air_density = 0.0012 * ureg.gram / ureg.centimeter ** 3\n",
    "radius = 6371000 * ureg.meter\n",
    "\n",
    "# Calculate volumes with units\n",
    "water_volume = water_mass / water_density\n",
    "geosphere_volume = (4/3) * np.pi * radius ** 3 - water_volume\n",
    "air_volume = air_mass / air_density\n",
    "\n",
    "# Print results with units\n",
    "print(f\"Volume of all of Earth's water: {water_volume.to('cubic meter'):.2e}\")\n",
    "print(f\"Volume of geosphere: {geosphere_volume.to('cubic meter'):.2e}\")\n",
    "print(f\"Volume of all of Earth's air: {air_volume.to('cubic meter'):.2e}\")\n"
   ]
  },
  {
   "cell_type": "markdown",
   "metadata": {},
   "source": [
    "Gesohpere has the highest volume, hence also hosts the highest number of \"interactions\". "
   ]
  },
  {
   "cell_type": "code",
   "execution_count": 12,
   "metadata": {},
   "outputs": [
    {
     "name": "stdout",
     "output_type": "stream",
     "text": [
      "Fraction of water wvolume on Earth:  0.00012924585120604039 dimensionless\n"
     ]
    }
   ],
   "source": [
    "fraction_water = (water_volume.to('cubic meter') / (volume))*100\n",
    "print(\"Fraction of water wvolume on Earth: \", fraction_water)"
   ]
  },
  {
   "cell_type": "code",
   "execution_count": 13,
   "metadata": {},
   "outputs": [
    {
     "name": "stdout",
     "output_type": "stream",
     "text": [
      "Fraction of air volume on Earth:  0.00039620007958994524 dimensionless\n"
     ]
    }
   ],
   "source": [
    "fraction_air = (air_volume.to('cubic meter') / (volume))*100\n",
    "print(\"Fraction of air volume on Earth: \", fraction_air)"
   ]
  },
  {
   "cell_type": "code",
   "execution_count": 14,
   "metadata": {},
   "outputs": [
    {
     "name": "stdout",
     "output_type": "stream",
     "text": [
      "Fraction of geosphere volume on Earth:  99.99987075414879 dimensionless\n"
     ]
    }
   ],
   "source": [
    "fraction_geosphere = (geosphere_volume.to('cubic meter') / (volume))*100\n",
    "print(\"Fraction of geosphere volume on Earth: \", fraction_geosphere)"
   ]
  },
  {
   "cell_type": "code",
   "execution_count": null,
   "metadata": {},
   "outputs": [],
   "source": []
  }
 ],
 "metadata": {
  "kernelspec": {
   "display_name": "Python 3",
   "language": "python",
   "name": "python3"
  },
  "language_info": {
   "codemirror_mode": {
    "name": "ipython",
    "version": 3
   },
   "file_extension": ".py",
   "mimetype": "text/x-python",
   "name": "python",
   "nbconvert_exporter": "python",
   "pygments_lexer": "ipython3",
   "version": "3.11.6"
  }
 },
 "nbformat": 4,
 "nbformat_minor": 2
}
